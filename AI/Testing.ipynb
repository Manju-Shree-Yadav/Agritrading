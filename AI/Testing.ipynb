{
 "cells": [
  {
   "cell_type": "code",
   "execution_count": 1,
   "id": "94e5c81f-d725-463d-a1a2-946e445af56d",
   "metadata": {},
   "outputs": [],
   "source": [
    "import pandas as pd\n",
    "import numpy as np\n",
    "from tensorflow.keras.models import load_model"
   ]
  },
  {
   "cell_type": "code",
   "execution_count": 2,
   "id": "18efea77-ff32-44ee-a737-56de09b2462d",
   "metadata": {},
   "outputs": [
    {
     "name": "stderr",
     "output_type": "stream",
     "text": [
      "C:\\Users\\Manju\\anaconda3\\Lib\\site-packages\\keras\\src\\saving\\saving_lib.py:757: UserWarning: Skipping variable loading for optimizer 'rmsprop', because it has 10 variables whereas the saved optimizer has 18 variables. \n",
      "  saveable.load_own_variables(weights_store.get(inner_path))\n"
     ]
    }
   ],
   "source": [
    "# Load the trained model\n",
    "price_model = load_model(\"price_recommendation_model.keras\")"
   ]
  },
  {
   "cell_type": "code",
   "execution_count": 3,
   "id": "e874e32d-e73f-4885-abf2-1440b53b3f0d",
   "metadata": {},
   "outputs": [],
   "source": [
    "# Load preprocessed dataset (used during training)\n",
    "data = pd.read_csv('preprocessed_trade_data.csv')"
   ]
  },
  {
   "cell_type": "code",
   "execution_count": 12,
   "id": "bec4d3fc-57f1-4cce-b60b-17cd4d7e87c0",
   "metadata": {},
   "outputs": [],
   "source": [
    "# Function to prepare data for a specific commodity\n",
    "def prepare_input_for_commodity(commodity_name, sequence_length=100):\n",
    "    # Filter dataset for the given commodity\n",
    "    commodity_data = data[data['commodity'] == commodity_name]\n",
    "    if commodity_data.empty:\n",
    "        raise ValueError(f\"No data found for commodity: {commodity_name}\")\n",
    "    \n",
    "    # Sort data by date to maintain temporal order\n",
    "    commodity_data = commodity_data.sort_values(by='created_at')\n",
    "    \n",
    "    # Define features used during training\n",
    "    features = ['min_price', 'max_price', 'commodity_arrivals', 'commodity_traded',\n",
    "                'price_spread', 'price_ratio', 'demand_supply_ratio', 'month', 'day_of_week']\n",
    "    \n",
    "    # Ensure we have enough data for the sequence length\n",
    "    if len(commodity_data) < sequence_length:\n",
    "        raise ValueError(f\"Not enough data to create sequences for {commodity_name}. Required: {sequence_length}, Found: {len(commodity_data)}\")\n",
    "    \n",
    "    # Create input sequence from the most recent data\n",
    "    sequence = commodity_data[features].iloc[-sequence_length:].values\n",
    "    sequence = np.expand_dims(sequence, axis=0)  # Reshape to match LSTM input shape\n",
    "    return sequence"
   ]
  },
  {
   "cell_type": "code",
   "execution_count": 13,
   "id": "f3a243cf-23f1-4b37-9912-508fb28e9e85",
   "metadata": {},
   "outputs": [],
   "source": [
    "# Function to predict price for a given commodity\n",
    "def predict_price_for_commodity(commodity_name):\n",
    "    try:\n",
    "        # Prepare input sequence\n",
    "        input_sequence = prepare_input_for_commodity(commodity_name)\n",
    "        \n",
    "        # Make prediction\n",
    "        predicted_price = price_model.predict(input_sequence)\n",
    "        predicted_price = predicted_price[0][0]  # Extract single value from prediction\n",
    "        \n",
    "        # Return the result\n",
    "        return f\"The recommended modal price for {commodity_name} is: ₹{predicted_price:.2f}\"\n",
    "    except ValueError as e:\n",
    "        return str(e)"
   ]
  },
  {
   "cell_type": "code",
   "execution_count": 18,
   "id": "84f25d67-2f12-4483-92da-cd51f033383f",
   "metadata": {},
   "outputs": [
    {
     "name": "stdout",
     "output_type": "stream",
     "text": [
      "No data found for commodity: COCONUT\n"
     ]
    }
   ],
   "source": [
    "# Example usage\n",
    "commodity_name = \"COCONUT\"  # Farmer-provided input\n",
    "result = predict_price_for_commodity(commodity_name)\n",
    "print(result)"
   ]
  },
  {
   "cell_type": "code",
   "execution_count": 21,
   "id": "cb3bf004-feb0-45b7-960f-58ff72961da0",
   "metadata": {},
   "outputs": [],
   "source": [
    "import json\n",
    "# Regenerate the mapping if not saved\n",
    "original_data = pd.read_csv(\"yearly_trade_data.csv\")  # Load original dataset\n",
    "commodity_mapping = {name: idx for idx, name in enumerate(original_data['commodity'].unique())}\n",
    "\n",
    "# Save the mapping for future use\n",
    "with open(\"commodity_mapping.json\", \"w\") as f:\n",
    "    json.dump(commodity_mapping, f)\n"
   ]
  },
  {
   "cell_type": "code",
   "execution_count": 37,
   "id": "ae0a6d6f-d8c9-44f3-a67a-2c9beb379751",
   "metadata": {},
   "outputs": [
    {
     "name": "stdout",
     "output_type": "stream",
     "text": [
      "\u001b[1m1/1\u001b[0m \u001b[32m━━━━━━━━━━━━━━━━━━━━\u001b[0m\u001b[37m\u001b[0m \u001b[1m0s\u001b[0m 59ms/step\n",
      "The recommended modal price for Coconut is: ₹-0.00\n"
     ]
    }
   ],
   "source": [
    "import numpy as np\n",
    "import pandas as pd\n",
    "import json\n",
    "\n",
    "# Load preprocessed data\n",
    "data = pd.read_csv(\"preprocessed_trade_data.csv\")\n",
    "\n",
    "# Load the commodity mapping\n",
    "with open(\"commodity_mapping.json\", \"r\") as f:\n",
    "    commodity_mapping = json.load(f)\n",
    "\n",
    "# Function to prepare input for a specific commodity\n",
    "def prepare_input_for_commodity(commodity_name, sequence_length=30):\n",
    "    # Normalize the commodity name and get its numeric code\n",
    "    commodity_name = commodity_name.lower()\n",
    "    commodity_numeric = 1\n",
    "    \n",
    "    if commodity_numeric is None:\n",
    "        raise ValueError(f\"No data found for commodity: {commodity_name}\")\n",
    "    \n",
    "    # Filter dataset for the given commodity\n",
    "    commodity_data = data[data['commodity'] == commodity_numeric]\n",
    "    if commodity_data.empty:\n",
    "        raise ValueError(f\"No data found for commodity: {commodity_name}\")\n",
    "    \n",
    "    # Sort data by date to maintain temporal order\n",
    "    commodity_data = commodity_data.sort_values(by='price_ratio')\n",
    "    \n",
    "    # Define features used during training\n",
    "    features = ['min_price', 'max_price', 'commodity_arrivals', 'commodity_traded',\n",
    "                'price_spread', 'price_ratio', 'demand_supply_ratio', 'month', 'day_of_week']\n",
    "    \n",
    "    # Ensure we have enough data for the sequence length\n",
    "    if len(commodity_data) < sequence_length:\n",
    "        raise ValueError(f\"Not enough data to create sequences for {commodity_name}. Required: {sequence_length}, Found: {len(commodity_data)}\")\n",
    "    \n",
    "    # Create input sequence from the most recent data\n",
    "    sequence = commodity_data[features].iloc[-sequence_length:].values\n",
    "    sequence = np.expand_dims(sequence, axis=0)  # Reshape to match LSTM input shape\n",
    "    return sequence\n",
    "\n",
    "# Function to predict price for a given commodity\n",
    "def predict_price_for_commodity(commodity_name):\n",
    "    try:\n",
    "        # Prepare input sequence\n",
    "        input_sequence = prepare_input_for_commodity(commodity_name)\n",
    "        \n",
    "        # Make prediction\n",
    "        predicted_price = price_model.predict(input_sequence)\n",
    "        predicted_price = predicted_price[0][0]  # Extract single value from prediction\n",
    "        \n",
    "        # Return the result\n",
    "        return f\"The recommended modal price for {commodity_name.capitalize()} is: ₹{predicted_price:.2f}\"\n",
    "    except ValueError as e:\n",
    "        return str(e)\n",
    "\n",
    "# Example usage\n",
    "commodity_name = \"COCONUT\"  # Farmer-provided input\n",
    "result = predict_price_for_commodity(commodity_name)\n",
    "print(result)\n"
   ]
  },
  {
   "cell_type": "code",
   "execution_count": 39,
   "id": "9ff97abe-5d48-4b7b-a58c-2170adb3f181",
   "metadata": {},
   "outputs": [
    {
     "ename": "NameError",
     "evalue": "name 'model' is not defined",
     "output_type": "error",
     "traceback": [
      "\u001b[1;31m---------------------------------------------------------------------------\u001b[0m",
      "\u001b[1;31mNameError\u001b[0m                                 Traceback (most recent call last)",
      "Cell \u001b[1;32mIn[39], line 33\u001b[0m\n\u001b[0;32m     31\u001b[0m \u001b[38;5;66;03m# Example usage\u001b[39;00m\n\u001b[0;32m     32\u001b[0m commodity \u001b[38;5;241m=\u001b[39m \u001b[38;5;124m\"\u001b[39m\u001b[38;5;124mcoconut\u001b[39m\u001b[38;5;124m\"\u001b[39m\n\u001b[1;32m---> 33\u001b[0m predicted_modal_price \u001b[38;5;241m=\u001b[39m predict_price(commodity)\n\u001b[0;32m     34\u001b[0m \u001b[38;5;28mprint\u001b[39m(\u001b[38;5;124mf\u001b[39m\u001b[38;5;124m\"\u001b[39m\u001b[38;5;124mThe recommended modal price for \u001b[39m\u001b[38;5;132;01m{\u001b[39;00mcommodity\u001b[38;5;241m.\u001b[39mcapitalize()\u001b[38;5;132;01m}\u001b[39;00m\u001b[38;5;124m is: ₹\u001b[39m\u001b[38;5;132;01m{\u001b[39;00mpredicted_modal_price\u001b[38;5;132;01m}\u001b[39;00m\u001b[38;5;124m\"\u001b[39m)\n",
      "Cell \u001b[1;32mIn[39], line 23\u001b[0m, in \u001b[0;36mpredict_price\u001b[1;34m(commodity_name)\u001b[0m\n\u001b[0;32m     20\u001b[0m sequence \u001b[38;5;241m=\u001b[39m np\u001b[38;5;241m.\u001b[39mexpand_dims(sequence, axis\u001b[38;5;241m=\u001b[39m\u001b[38;5;241m0\u001b[39m)  \u001b[38;5;66;03m# Reshape for LSTM input\u001b[39;00m\n\u001b[0;32m     22\u001b[0m \u001b[38;5;66;03m# Make prediction\u001b[39;00m\n\u001b[1;32m---> 23\u001b[0m predicted_price \u001b[38;5;241m=\u001b[39m model\u001b[38;5;241m.\u001b[39mpredict(sequence)\n\u001b[0;32m     25\u001b[0m \u001b[38;5;66;03m# Inverse transform the predicted price\u001b[39;00m\n\u001b[0;32m     26\u001b[0m scaler \u001b[38;5;241m=\u001b[39m joblib\u001b[38;5;241m.\u001b[39mload(\u001b[38;5;124m'\u001b[39m\u001b[38;5;124mprice_scaler.pkl\u001b[39m\u001b[38;5;124m'\u001b[39m)\n",
      "\u001b[1;31mNameError\u001b[0m: name 'model' is not defined"
     ]
    }
   ],
   "source": [
    "def predict_price(commodity_name):\n",
    "    # Convert commodity to its numeric encoding\n",
    "    commodity_name = commodity_name.lower()\n",
    "    commodity_numeric = 1\n",
    "    \n",
    "    if commodity_numeric is None:\n",
    "        raise ValueError(f\"No data found for commodity: {commodity_name}\")\n",
    "    \n",
    "    # Filter the dataset for the given commodity\n",
    "    commodity_data = data[data['commodity'] == commodity_numeric]\n",
    "    if commodity_data.empty:\n",
    "        raise ValueError(f\"No data found for commodity: {commodity_name}\")\n",
    "    \n",
    "    # Prepare input sequence\n",
    "    commodity_data = commodity_data.sort_values(by='month')  # Ensure chronological order\n",
    "    features = ['min_price', 'max_price', 'commodity_arrivals', 'commodity_traded',\n",
    "                'price_spread', 'price_ratio', 'demand_supply_ratio', 'month', 'day_of_week']\n",
    "    \n",
    "    sequence = commodity_data[features].iloc[-30:].values  # Last 30 days\n",
    "    sequence = np.expand_dims(sequence, axis=0)  # Reshape for LSTM input\n",
    "    \n",
    "    # Make prediction\n",
    "    predicted_price = model.predict(sequence)\n",
    "    \n",
    "    # Inverse transform the predicted price\n",
    "    scaler = joblib.load('price_scaler.pkl')\n",
    "    predicted_price = scaler.inverse_transform([[predicted_price[0][0]]])[0][0]\n",
    "    \n",
    "    return round(predicted_price, 2)\n",
    "\n",
    "# Example usage\n",
    "commodity = \"coconut\"\n",
    "predicted_modal_price = predict_price(commodity)\n",
    "print(f\"The recommended modal price for {commodity.capitalize()} is: ₹{predicted_modal_price}\")\n"
   ]
  },
  {
   "cell_type": "code",
   "execution_count": null,
   "id": "e7a9e3bd-2f8c-42d5-a3a7-07625ab60b86",
   "metadata": {},
   "outputs": [],
   "source": []
  }
 ],
 "metadata": {
  "kernelspec": {
   "display_name": "Python 3 (ipykernel)",
   "language": "python",
   "name": "python3"
  },
  "language_info": {
   "codemirror_mode": {
    "name": "ipython",
    "version": 3
   },
   "file_extension": ".py",
   "mimetype": "text/x-python",
   "name": "python",
   "nbconvert_exporter": "python",
   "pygments_lexer": "ipython3",
   "version": "3.12.7"
  }
 },
 "nbformat": 4,
 "nbformat_minor": 5
}
