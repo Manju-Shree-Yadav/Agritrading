{
 "cells": [
  {
   "cell_type": "code",
   "execution_count": 1,
   "id": "8955e9ea-40f3-4b17-83dc-0c69b5da1e2d",
   "metadata": {},
   "outputs": [],
   "source": [
    "import pandas as pd\n",
    "import numpy as np\n",
    "from sklearn.preprocessing import LabelEncoder, MinMaxScaler"
   ]
  },
  {
   "cell_type": "code",
   "execution_count": 2,
   "id": "6da69b75-c980-454c-80c7-88f81adb4cd3",
   "metadata": {},
   "outputs": [
    {
     "name": "stdout",
     "output_type": "stream",
     "text": [
      "<class 'pandas.core.frame.DataFrame'>\n",
      "RangeIndex: 7418 entries, 0 to 7417\n",
      "Data columns (total 10 columns):\n",
      " #   Column        Non-Null Count  Dtype  \n",
      "---  ------        --------------  -----  \n",
      " 0   timestamp     7418 non-null   int64  \n",
      " 1   state         7418 non-null   object \n",
      " 2   district      7418 non-null   object \n",
      " 3   market        7418 non-null   object \n",
      " 4   commodity     7418 non-null   object \n",
      " 5   variety       7418 non-null   object \n",
      " 6   arrival_date  7418 non-null   object \n",
      " 7   min_price     7418 non-null   float64\n",
      " 8   max_price     7418 non-null   float64\n",
      " 9   modal_price   7418 non-null   float64\n",
      "dtypes: float64(3), int64(1), object(6)\n",
      "memory usage: 579.7+ KB\n",
      "None\n"
     ]
    }
   ],
   "source": [
    "data = pd.read_csv(\"total.csv\")\n",
    "print(data.info())"
   ]
  },
  {
   "cell_type": "markdown",
   "id": "8d7e09a3-0a31-458d-9d71-5fe856242c36",
   "metadata": {},
   "source": [
    "**Handle Missing Values**"
   ]
  },
  {
   "cell_type": "code",
   "execution_count": 3,
   "id": "a9ad06ab-1083-44ab-9c4c-eda2d06fde28",
   "metadata": {},
   "outputs": [
    {
     "name": "stdout",
     "output_type": "stream",
     "text": [
      "timestamp       0\n",
      "state           0\n",
      "district        0\n",
      "market          0\n",
      "commodity       0\n",
      "variety         0\n",
      "arrival_date    0\n",
      "min_price       0\n",
      "max_price       0\n",
      "modal_price     0\n",
      "dtype: int64\n"
     ]
    }
   ],
   "source": [
    "#check for missing values\n",
    "print(data.isnull().sum())"
   ]
  },
  {
   "cell_type": "code",
   "execution_count": 4,
   "id": "6564239f-2b05-4e17-a522-0e757d01eae3",
   "metadata": {},
   "outputs": [],
   "source": [
    "price_columns = ['min_price', 'modal_price', 'max_price']\n",
    "for col in price_columns:\n",
    "    data[col].fillna(data.groupby('commodity')[col].transform('median'))"
   ]
  },
  {
   "cell_type": "markdown",
   "id": "2b413332-360f-4040-9676-1bb325481603",
   "metadata": {},
   "source": [
    "**Feature Engineering**"
   ]
  },
  {
   "cell_type": "code",
   "execution_count": 6,
   "id": "22eab945-526f-48bb-a3a0-87f470e17aa5",
   "metadata": {},
   "outputs": [],
   "source": [
    "# Add price spread \n",
    "data['price_spread'] = data['max_price'] - data['min_price']\n",
    "data['price_ratio'] = data['max_price'] / (data['min_price'] + 1e-5)  # Avoid division by zero"
   ]
  },
  {
   "cell_type": "code",
   "execution_count": 9,
   "id": "27a146c7-5b8b-49ed-bcef-f1853aecfa41",
   "metadata": {},
   "outputs": [],
   "source": [
    "\n",
    "data['arrival_date'] = pd.to_datetime(data['arrival_date'])\n",
    "data['month'] = data['arrival_date'].dt.month\n",
    "data['day_of_week'] = data['arrival_date'].dt.dayofweek\n",
    "data['year'] = data['arrival_date'].dt.year"
   ]
  },
  {
   "cell_type": "markdown",
   "id": "99a317de-063d-455f-94f7-9b561249fe46",
   "metadata": {},
   "source": [
    "**Encode Categorical Variables**"
   ]
  },
  {
   "cell_type": "code",
   "execution_count": 7,
   "id": "2fdda968-5d38-41f9-b4d5-74b33d1cfa8c",
   "metadata": {},
   "outputs": [],
   "source": [
    "# Encode 'state', 'apmc', and 'commodity' using Label Encoding\n",
    "label_encoders = {}\n",
    "for col in ['state', 'district','market', 'commodity']:\n",
    "    le = LabelEncoder()\n",
    "    data[col] = le.fit_transform(data[col])\n",
    "    label_encoders[col] = le"
   ]
  },
  {
   "cell_type": "markdown",
   "id": "0bfa0e73-864f-4eb9-b037-8bc45c68091a",
   "metadata": {},
   "source": [
    "**Normalize/Scale Data**"
   ]
  },
  {
   "cell_type": "code",
   "execution_count": 8,
   "id": "76ce1f12-f024-4690-a3d5-4438c81a0ddb",
   "metadata": {},
   "outputs": [],
   "source": [
    "scaler = MinMaxScaler()\n",
    "scaled_columns = ['min_price', 'modal_price', 'max_price',\n",
    "                  'price_spread', 'price_ratio']\n",
    "data[scaled_columns] = scaler.fit_transform(data[scaled_columns])"
   ]
  },
  {
   "cell_type": "markdown",
   "id": "e7b1285b-3a37-43e9-a182-c9f49e50e9f1",
   "metadata": {},
   "source": [
    "**Create Time-Series Data for LSTM**"
   ]
  },
  {
   "cell_type": "code",
   "execution_count": 10,
   "id": "5deaa777-484d-4668-82cc-546794ad9577",
   "metadata": {},
   "outputs": [],
   "source": [
    "# Group by commodity and sort by date for time-series modeling\n",
    "data.sort_values(['commodity', 'year', 'month', 'day_of_week'], inplace=True)"
   ]
  },
  {
   "cell_type": "code",
   "execution_count": 11,
   "id": "de7b7464-0d21-43c4-9def-3ead79363ff9",
   "metadata": {},
   "outputs": [],
   "source": [
    "# Prepare data for LSTM\n",
    "# Define features and target variables for each feature\n",
    "features = ['min_price', 'modal_price', 'max_price',\n",
    "            'price_spread', 'price_ratio','month', 'day_of_week']\n",
    "target_price = 'modal_price'  # Target for price recommendation"
   ]
  },
  {
   "cell_type": "code",
   "execution_count": 12,
   "id": "8c619a04-9250-4aaa-8f0c-81435973c979",
   "metadata": {},
   "outputs": [
    {
     "name": "stdout",
     "output_type": "stream",
     "text": [
      "Preprocessing complete. Data saved to 'preprocessed_trade_data.csv'\n"
     ]
    }
   ],
   "source": [
    "# Save preprocessed data\n",
    "data.to_csv('preprocessed_trade_data.csv', index=False)\n",
    "print(\"Preprocessing complete. Data saved to 'preprocessed_trade_data.csv'\")"
   ]
  },
  {
   "cell_type": "code",
   "execution_count": null,
   "id": "b5be4089-bddf-4dc4-bad2-7ec32a6b41ec",
   "metadata": {},
   "outputs": [],
   "source": []
  }
 ],
 "metadata": {
  "kernelspec": {
   "display_name": "Python 3 (ipykernel)",
   "language": "python",
   "name": "python3"
  },
  "language_info": {
   "codemirror_mode": {
    "name": "ipython",
    "version": 3
   },
   "file_extension": ".py",
   "mimetype": "text/x-python",
   "name": "python",
   "nbconvert_exporter": "python",
   "pygments_lexer": "ipython3",
   "version": "3.12.7"
  }
 },
 "nbformat": 4,
 "nbformat_minor": 5
}
