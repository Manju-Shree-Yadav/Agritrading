{
 "cells": [
  {
   "cell_type": "code",
   "execution_count": 1,
   "id": "23b9c072-68ac-4be6-bc14-7c338fdc3ea3",
   "metadata": {},
   "outputs": [
    {
     "name": "stdout",
     "output_type": "stream",
     "text": [
      "Requirement already satisfied: flask in c:\\users\\manju\\anaconda3\\lib\\site-packages (3.0.3)\n",
      "Requirement already satisfied: Werkzeug>=3.0.0 in c:\\users\\manju\\anaconda3\\lib\\site-packages (from flask) (3.0.3)\n",
      "Requirement already satisfied: Jinja2>=3.1.2 in c:\\users\\manju\\anaconda3\\lib\\site-packages (from flask) (3.1.4)\n",
      "Requirement already satisfied: itsdangerous>=2.1.2 in c:\\users\\manju\\anaconda3\\lib\\site-packages (from flask) (2.2.0)\n",
      "Requirement already satisfied: click>=8.1.3 in c:\\users\\manju\\anaconda3\\lib\\site-packages (from flask) (8.1.7)\n",
      "Requirement already satisfied: blinker>=1.6.2 in c:\\users\\manju\\anaconda3\\lib\\site-packages (from flask) (1.6.2)\n",
      "Requirement already satisfied: colorama in c:\\users\\manju\\anaconda3\\lib\\site-packages (from click>=8.1.3->flask) (0.4.6)\n",
      "Requirement already satisfied: MarkupSafe>=2.0 in c:\\users\\manju\\anaconda3\\lib\\site-packages (from Jinja2>=3.1.2->flask) (2.1.3)\n"
     ]
    }
   ],
   "source": [
    "!pip install flask"
   ]
  },
  {
   "cell_type": "markdown",
   "id": "9f4c75e0-bd66-4cc2-9912-c17d0610bbb9",
   "metadata": {},
   "source": [
    "**API Creation**"
   ]
  },
  {
   "cell_type": "code",
   "execution_count": null,
   "id": "41cac19f-3976-4826-8534-3d7b656755ac",
   "metadata": {},
   "outputs": [
    {
     "name": "stdout",
     "output_type": "stream",
     "text": [
      " * Serving Flask app '__main__'\n",
      " * Debug mode: off\n"
     ]
    },
    {
     "name": "stderr",
     "output_type": "stream",
     "text": [
      "WARNING: This is a development server. Do not use it in a production deployment. Use a production WSGI server instead.\n",
      " * Running on http://127.0.0.1:5000\n",
      "Press CTRL+C to quit\n"
     ]
    },
    {
     "name": "stdout",
     "output_type": "stream",
     "text": [
      "\u001b[1m1/1\u001b[0m \u001b[32m━━━━━━━━━━━━━━━━━━━━\u001b[0m\u001b[37m\u001b[0m \u001b[1m1s\u001b[0m 600ms/step\n"
     ]
    },
    {
     "name": "stderr",
     "output_type": "stream",
     "text": [
      "127.0.0.1 - - [15/Jan/2025 16:03:33] \"POST /recommend_price HTTP/1.1\" 200 -\n"
     ]
    },
    {
     "name": "stdout",
     "output_type": "stream",
     "text": [
      "\u001b[1m1/1\u001b[0m \u001b[32m━━━━━━━━━━━━━━━━━━━━\u001b[0m\u001b[37m\u001b[0m \u001b[1m0s\u001b[0m 66ms/step\n"
     ]
    },
    {
     "name": "stderr",
     "output_type": "stream",
     "text": [
      "127.0.0.1 - - [15/Jan/2025 16:08:01] \"POST /recommend_price HTTP/1.1\" 200 -\n"
     ]
    },
    {
     "name": "stdout",
     "output_type": "stream",
     "text": [
      "\u001b[1m1/1\u001b[0m \u001b[32m━━━━━━━━━━━━━━━━━━━━\u001b[0m\u001b[37m\u001b[0m \u001b[1m0s\u001b[0m 105ms/step\n"
     ]
    },
    {
     "name": "stderr",
     "output_type": "stream",
     "text": [
      "127.0.0.1 - - [15/Jan/2025 16:08:20] \"POST /recommend_price HTTP/1.1\" 200 -\n"
     ]
    },
    {
     "name": "stdout",
     "output_type": "stream",
     "text": [
      "\u001b[1m1/1\u001b[0m \u001b[32m━━━━━━━━━━━━━━━━━━━━\u001b[0m\u001b[37m\u001b[0m \u001b[1m0s\u001b[0m 68ms/step\n"
     ]
    },
    {
     "name": "stderr",
     "output_type": "stream",
     "text": [
      "127.0.0.1 - - [15/Jan/2025 16:08:33] \"POST /recommend_price HTTP/1.1\" 200 -\n"
     ]
    },
    {
     "name": "stdout",
     "output_type": "stream",
     "text": [
      "\u001b[1m1/1\u001b[0m \u001b[32m━━━━━━━━━━━━━━━━━━━━\u001b[0m\u001b[37m\u001b[0m \u001b[1m0s\u001b[0m 66ms/step\n"
     ]
    },
    {
     "name": "stderr",
     "output_type": "stream",
     "text": [
      "127.0.0.1 - - [15/Jan/2025 16:08:45] \"POST /recommend_price HTTP/1.1\" 200 -\n"
     ]
    },
    {
     "name": "stdout",
     "output_type": "stream",
     "text": [
      "\u001b[1m1/1\u001b[0m \u001b[32m━━━━━━━━━━━━━━━━━━━━\u001b[0m\u001b[37m\u001b[0m \u001b[1m0s\u001b[0m 73ms/step\n"
     ]
    },
    {
     "name": "stderr",
     "output_type": "stream",
     "text": [
      "127.0.0.1 - - [15/Jan/2025 16:27:44] \"POST /recommend_price HTTP/1.1\" 200 -\n"
     ]
    },
    {
     "name": "stdout",
     "output_type": "stream",
     "text": [
      "\u001b[1m1/1\u001b[0m \u001b[32m━━━━━━━━━━━━━━━━━━━━\u001b[0m\u001b[37m\u001b[0m \u001b[1m0s\u001b[0m 63ms/step\n"
     ]
    },
    {
     "name": "stderr",
     "output_type": "stream",
     "text": [
      "127.0.0.1 - - [15/Jan/2025 16:27:57] \"POST /recommend_price HTTP/1.1\" 200 -\n"
     ]
    },
    {
     "name": "stdout",
     "output_type": "stream",
     "text": [
      "\u001b[1m1/1\u001b[0m \u001b[32m━━━━━━━━━━━━━━━━━━━━\u001b[0m\u001b[37m\u001b[0m \u001b[1m0s\u001b[0m 66ms/step\n"
     ]
    },
    {
     "name": "stderr",
     "output_type": "stream",
     "text": [
      "127.0.0.1 - - [15/Jan/2025 16:28:13] \"POST /recommend_price HTTP/1.1\" 200 -\n"
     ]
    },
    {
     "name": "stdout",
     "output_type": "stream",
     "text": [
      "\u001b[1m1/1\u001b[0m \u001b[32m━━━━━━━━━━━━━━━━━━━━\u001b[0m\u001b[37m\u001b[0m \u001b[1m0s\u001b[0m 67ms/step\n"
     ]
    },
    {
     "name": "stderr",
     "output_type": "stream",
     "text": [
      "127.0.0.1 - - [15/Jan/2025 16:28:23] \"POST /recommend_price HTTP/1.1\" 200 -\n"
     ]
    }
   ],
   "source": [
    "from flask import Flask, request, jsonify\n",
    "from tensorflow.keras.models import load_model\n",
    "import numpy as np\n",
    "\n",
    "app = Flask(__name__)\n",
    "\n",
    "# Load the trained model\n",
    "model_path = \"price_recommendation_model.keras\"\n",
    "price_model = load_model(model_path)\n",
    "\n",
    "@app.route(\"/\")\n",
    "def home():\n",
    "    \"\"\"\n",
    "    Root route to test if the API is running.\n",
    "    \"\"\"\n",
    "    return \"Welcome to the Price Recommendation API!\"\n",
    "\n",
    "@app.route(\"/recommend_price\", methods=[\"POST\"])\n",
    "def recommend_price():\n",
    "    \"\"\"\n",
    "    Endpoint to recommend prices based on input data.\n",
    "    Input: JSON with 'features' and 'sequence_length'\n",
    "    Output: Predicted price\n",
    "    \"\"\"\n",
    "    try:\n",
    "        # Parse JSON input\n",
    "        data = request.get_json()\n",
    "        feat = data.get(\"features\")\n",
    "        if not feat:\n",
    "            return jsonify({\"error\": \"No features provided in the input.\"}), 400\n",
    "        \n",
    "        # Convert features to a NumPy array\n",
    "        features_array = np.array(feat)\n",
    "        \n",
    "        # Calculate min and max price\n",
    "        min_price = features_array[:, 0].min()  \n",
    "        max_price = features_array[:, 1].max() \n",
    "        \n",
    "        # Check if 'features' and 'sequence_length' are provided\n",
    "        if not data or \"features\" not in data or \"sequence_length\" not in data:\n",
    "            return jsonify({\"error\": \"Invalid input. Provide 'features' as a list and 'sequence_length'.\"}), 400\n",
    "        \n",
    "        # Extract features and sequence length\n",
    "        features = data[\"features\"]\n",
    "        sequence_length = data[\"sequence_length\"]\n",
    "        \n",
    "        # Validate sequence length\n",
    "        if len(features) != sequence_length:\n",
    "            return jsonify({\"error\": f\"Sequence length mismatch. Expected {sequence_length} timesteps, got {len(features)}.\"}), 400\n",
    "        \n",
    "        # Convert features to numpy array and reshape for LSTM\n",
    "        features_array = np.array(features).reshape(1, sequence_length, len(features[0]))\n",
    "        \n",
    "        # Make prediction\n",
    "        predicted_price = price_model.predict(features_array)[0][0]\n",
    "        actual_price = min_price + (predicted_price * (max_price - min_price))\n",
    "\n",
    "        # Return the prediction\n",
    "        return jsonify({\"Normalised_output_by_model\": float(predicted_price),\n",
    "                       \"predicted_price\":float(actual_price)})\n",
    "    \n",
    "    except Exception as e:\n",
    "        # Handle errors\n",
    "        return jsonify({\"error\": str(e)}), 500\n",
    "\n",
    "@app.route(\"/favicon.ico\")\n",
    "def favicon():\n",
    "    \"\"\"\n",
    "    Handle the browser's favicon.ico request.\n",
    "    \"\"\"\n",
    "    return \"\", 204\n",
    "\n",
    "if __name__ == \"__main__\":\n",
    "    # Run the Flask app\n",
    "    app.run(debug=False)\n"
   ]
  },
  {
   "cell_type": "code",
   "execution_count": null,
   "id": "1afe0631-4a40-47fc-a82b-9c5e3e9ff096",
   "metadata": {},
   "outputs": [],
   "source": []
  }
 ],
 "metadata": {
  "kernelspec": {
   "display_name": "Python 3 (ipykernel)",
   "language": "python",
   "name": "python3"
  },
  "language_info": {
   "codemirror_mode": {
    "name": "ipython",
    "version": 3
   },
   "file_extension": ".py",
   "mimetype": "text/x-python",
   "name": "python",
   "nbconvert_exporter": "python",
   "pygments_lexer": "ipython3",
   "version": "3.12.7"
  }
 },
 "nbformat": 4,
 "nbformat_minor": 5
}
