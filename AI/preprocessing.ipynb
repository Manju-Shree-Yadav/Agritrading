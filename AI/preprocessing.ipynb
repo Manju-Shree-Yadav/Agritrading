{
 "cells": [
  {
   "cell_type": "code",
   "execution_count": 1,
   "id": "8955e9ea-40f3-4b17-83dc-0c69b5da1e2d",
   "metadata": {},
   "outputs": [],
   "source": [
    "import pandas as pd\n",
    "import numpy as np\n",
    "from sklearn.preprocessing import LabelEncoder, MinMaxScaler"
   ]
  },
  {
   "cell_type": "code",
   "execution_count": 2,
   "id": "6da69b75-c980-454c-80c7-88f81adb4cd3",
   "metadata": {},
   "outputs": [
    {
     "name": "stdout",
     "output_type": "stream",
     "text": [
      "<class 'pandas.core.frame.DataFrame'>\n",
      "RangeIndex: 902824 entries, 0 to 902823\n",
      "Data columns (total 12 columns):\n",
      " #   Column              Non-Null Count   Dtype \n",
      "---  ------              --------------   ----- \n",
      " 0   id                  902824 non-null  int64 \n",
      " 1   state               902824 non-null  object\n",
      " 2   apmc                902824 non-null  object\n",
      " 3   commodity           902824 non-null  object\n",
      " 4   min_price           902824 non-null  int64 \n",
      " 5   modal_price         902824 non-null  int64 \n",
      " 6   max_price           902824 non-null  int64 \n",
      " 7   commodity_arrivals  902824 non-null  int64 \n",
      " 8   commodity_traded    902824 non-null  int64 \n",
      " 9   created_at          902824 non-null  object\n",
      " 10  status              902824 non-null  int64 \n",
      " 11  Commodity_Uom       902824 non-null  object\n",
      "dtypes: int64(7), object(5)\n",
      "memory usage: 82.7+ MB\n",
      "None\n"
     ]
    }
   ],
   "source": [
    "data = pd.read_csv(\"yearly_trade_data.csv\")\n",
    "print(data.info())"
   ]
  },
  {
   "cell_type": "markdown",
   "id": "8d7e09a3-0a31-458d-9d71-5fe856242c36",
   "metadata": {},
   "source": [
    "**Handle Missing Values**"
   ]
  },
  {
   "cell_type": "code",
   "execution_count": 3,
   "id": "a9ad06ab-1083-44ab-9c4c-eda2d06fde28",
   "metadata": {},
   "outputs": [
    {
     "name": "stdout",
     "output_type": "stream",
     "text": [
      "id                    0\n",
      "state                 0\n",
      "apmc                  0\n",
      "commodity             0\n",
      "min_price             0\n",
      "modal_price           0\n",
      "max_price             0\n",
      "commodity_arrivals    0\n",
      "commodity_traded      0\n",
      "created_at            0\n",
      "status                0\n",
      "Commodity_Uom         0\n",
      "dtype: int64\n"
     ]
    }
   ],
   "source": [
    "#check for missing values\n",
    "print(data.isnull().sum())"
   ]
  },
  {
   "cell_type": "code",
   "execution_count": 5,
   "id": "6564239f-2b05-4e17-a522-0e757d01eae3",
   "metadata": {},
   "outputs": [],
   "source": [
    "price_columns = ['min_price', 'modal_price', 'max_price']\n",
    "for col in price_columns:\n",
    "    data[col].fillna(data.groupby('commodity')[col].transform('median'))"
   ]
  },
  {
   "cell_type": "code",
   "execution_count": 6,
   "id": "309793b4-a8a9-4e6f-97ac-e8719df9303c",
   "metadata": {},
   "outputs": [],
   "source": [
    "# Fill missing values in quantities with median\n",
    "quantity_columns = ['commodity_arrivals', 'commodity_traded']\n",
    "for col in quantity_columns:\n",
    "    data[col].fillna(data[col].median())"
   ]
  },
  {
   "cell_type": "markdown",
   "id": "c1eca5cb-1b93-4cc8-b6fd-626c134c5e34",
   "metadata": {},
   "source": [
    "**Filter Valid Records**"
   ]
  },
  {
   "cell_type": "code",
   "execution_count": 7,
   "id": "48bcaf2c-0c32-448d-8b3b-06e7ac1844d7",
   "metadata": {},
   "outputs": [],
   "source": [
    "data = data[data['status'] == 1]"
   ]
  },
  {
   "cell_type": "markdown",
   "id": "92d83321-690f-4cd0-a724-2a1a803fe1c0",
   "metadata": {},
   "source": [
    "**Normalize and Clean Data**"
   ]
  },
  {
   "cell_type": "code",
   "execution_count": 8,
   "id": "a578a4dc-a33b-4f2d-9061-cbaff5c84bfb",
   "metadata": {},
   "outputs": [],
   "source": [
    "unit_map = {'Nos': 0.001, 'Kg': 1, 'Qui': 100}\n",
    "data['commodity_arrivals'] = data['commodity_arrivals'] * data['Commodity_Uom'].map(unit_map)\n",
    "data['commodity_traded'] = data['commodity_traded'] * data['Commodity_Uom'].map(unit_map)\n",
    "data.drop(columns=['Commodity_Uom'], inplace=True)"
   ]
  },
  {
   "cell_type": "markdown",
   "id": "2b413332-360f-4040-9676-1bb325481603",
   "metadata": {},
   "source": [
    "**Feature Engineering**"
   ]
  },
  {
   "cell_type": "code",
   "execution_count": 9,
   "id": "22eab945-526f-48bb-a3a0-87f470e17aa5",
   "metadata": {},
   "outputs": [],
   "source": [
    "# Add price spread and demand-supply ratio\n",
    "data['price_spread'] = data['max_price'] - data['min_price']\n",
    "data['price_ratio'] = data['max_price'] / (data['min_price'] + 1e-5)  # Avoid division by zero\n",
    "data['demand_supply_ratio'] = data['commodity_traded'] / (data['commodity_arrivals'] + 1e-5)"
   ]
  },
  {
   "cell_type": "code",
   "execution_count": 10,
   "id": "c180d868-6780-49cc-b384-1c77c5176ee6",
   "metadata": {},
   "outputs": [],
   "source": [
    "# Add temporal features from `created_at`\n",
    "data['created_at'] = pd.to_datetime(data['created_at'])\n",
    "data['month'] = data['created_at'].dt.month\n",
    "data['day_of_week'] = data['created_at'].dt.dayofweek\n",
    "data['year'] = data['created_at'].dt.year"
   ]
  },
  {
   "cell_type": "code",
   "execution_count": 11,
   "id": "620679ba-6225-4d3a-a58c-ce3a72a44099",
   "metadata": {},
   "outputs": [],
   "source": [
    "# Drop unnecessary columns\n",
    "data.drop(columns=['id', 'created_at', 'status'], inplace=True)"
   ]
  },
  {
   "cell_type": "markdown",
   "id": "99a317de-063d-455f-94f7-9b561249fe46",
   "metadata": {},
   "source": [
    "**Encode Categorical Variables**"
   ]
  },
  {
   "cell_type": "code",
   "execution_count": 12,
   "id": "2fdda968-5d38-41f9-b4d5-74b33d1cfa8c",
   "metadata": {},
   "outputs": [],
   "source": [
    "# Encode 'state', 'apmc', and 'commodity' using Label Encoding\n",
    "label_encoders = {}\n",
    "for col in ['state', 'apmc', 'commodity']:\n",
    "    le = LabelEncoder()\n",
    "    data[col] = le.fit_transform(data[col])\n",
    "    label_encoders[col] = le"
   ]
  },
  {
   "cell_type": "markdown",
   "id": "0bfa0e73-864f-4eb9-b037-8bc45c68091a",
   "metadata": {},
   "source": [
    "**Normalize/Scale Data**"
   ]
  },
  {
   "cell_type": "code",
   "execution_count": 13,
   "id": "76ce1f12-f024-4690-a3d5-4438c81a0ddb",
   "metadata": {},
   "outputs": [],
   "source": [
    "scaler = MinMaxScaler()\n",
    "scaled_columns = ['min_price', 'modal_price', 'max_price', 'commodity_arrivals', 'commodity_traded',\n",
    "                  'price_spread', 'price_ratio', 'demand_supply_ratio']\n",
    "data[scaled_columns] = scaler.fit_transform(data[scaled_columns])"
   ]
  },
  {
   "cell_type": "markdown",
   "id": "e7b1285b-3a37-43e9-a182-c9f49e50e9f1",
   "metadata": {},
   "source": [
    "**Create Time-Series Data for LSTM**"
   ]
  },
  {
   "cell_type": "code",
   "execution_count": 14,
   "id": "5deaa777-484d-4668-82cc-546794ad9577",
   "metadata": {},
   "outputs": [],
   "source": [
    "# Group by commodity and sort by date for time-series modeling\n",
    "data.sort_values(['commodity', 'year', 'month', 'day_of_week'], inplace=True)"
   ]
  },
  {
   "cell_type": "code",
   "execution_count": 15,
   "id": "de7b7464-0d21-43c4-9def-3ead79363ff9",
   "metadata": {},
   "outputs": [],
   "source": [
    "# Prepare data for LSTM\n",
    "# Define features and target variables for each feature\n",
    "features = ['min_price', 'modal_price', 'max_price', 'commodity_arrivals', 'commodity_traded',\n",
    "            'price_spread', 'price_ratio', 'demand_supply_ratio', 'month', 'day_of_week']\n",
    "target_price = 'modal_price'  # Target for price recommendation\n",
    "target_trade = 'commodity_traded'  # Target for trade prediction"
   ]
  },
  {
   "cell_type": "code",
   "execution_count": 16,
   "id": "8c619a04-9250-4aaa-8f0c-81435973c979",
   "metadata": {},
   "outputs": [
    {
     "name": "stdout",
     "output_type": "stream",
     "text": [
      "Preprocessing complete. Data saved to 'preprocessed_trade_data.csv'\n"
     ]
    }
   ],
   "source": [
    "# Save preprocessed data\n",
    "data.to_csv('preprocessed_trade_data.csv', index=False)\n",
    "print(\"Preprocessing complete. Data saved to 'preprocessed_trade_data.csv'\")"
   ]
  },
  {
   "cell_type": "code",
   "execution_count": null,
   "id": "b5be4089-bddf-4dc4-bad2-7ec32a6b41ec",
   "metadata": {},
   "outputs": [],
   "source": []
  }
 ],
 "metadata": {
  "kernelspec": {
   "display_name": "Python 3 (ipykernel)",
   "language": "python",
   "name": "python3"
  },
  "language_info": {
   "codemirror_mode": {
    "name": "ipython",
    "version": 3
   },
   "file_extension": ".py",
   "mimetype": "text/x-python",
   "name": "python",
   "nbconvert_exporter": "python",
   "pygments_lexer": "ipython3",
   "version": "3.12.7"
  }
 },
 "nbformat": 4,
 "nbformat_minor": 5
}
