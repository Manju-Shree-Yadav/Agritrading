{
 "cells": [
  {
   "cell_type": "code",
   "execution_count": 1,
   "id": "8955e9ea-40f3-4b17-83dc-0c69b5da1e2d",
   "metadata": {},
   "outputs": [],
   "source": [
    "import pandas as pd\n",
    "import numpy as np\n",
    "from sklearn.preprocessing import LabelEncoder, MinMaxScaler"
   ]
  },
  {
   "cell_type": "code",
   "execution_count": 2,
   "id": "6da69b75-c980-454c-80c7-88f81adb4cd3",
   "metadata": {},
   "outputs": [
    {
     "name": "stdout",
     "output_type": "stream",
     "text": [
      "<class 'pandas.core.frame.DataFrame'>\n",
      "RangeIndex: 7418 entries, 0 to 7417\n",
      "Data columns (total 10 columns):\n",
      " #   Column        Non-Null Count  Dtype  \n",
      "---  ------        --------------  -----  \n",
      " 0   timestamp     7418 non-null   int64  \n",
      " 1   state         7418 non-null   object \n",
      " 2   district      7418 non-null   object \n",
      " 3   market        7418 non-null   object \n",
      " 4   commodity     7418 non-null   object \n",
      " 5   variety       7418 non-null   object \n",
      " 6   arrival_date  7418 non-null   object \n",
      " 7   min_price     7418 non-null   float64\n",
      " 8   max_price     7418 non-null   float64\n",
      " 9   modal_price   7418 non-null   float64\n",
      "dtypes: float64(3), int64(1), object(6)\n",
      "memory usage: 579.7+ KB\n",
      "None\n"
     ]
    }
   ],
   "source": [
    "data = pd.read_csv(\"total.csv\")\n",
    "print(data.info())"
   ]
  },
  {
   "cell_type": "markdown",
   "id": "8d7e09a3-0a31-458d-9d71-5fe856242c36",
   "metadata": {},
   "source": [
    "**Handle Missing Values**"
   ]
  },
  {
   "cell_type": "code",
   "execution_count": 3,
   "id": "a9ad06ab-1083-44ab-9c4c-eda2d06fde28",
   "metadata": {},
   "outputs": [
    {
     "name": "stdout",
     "output_type": "stream",
     "text": [
      "timestamp       0\n",
      "state           0\n",
      "district        0\n",
      "market          0\n",
      "commodity       0\n",
      "variety         0\n",
      "arrival_date    0\n",
      "min_price       0\n",
      "max_price       0\n",
      "modal_price     0\n",
      "dtype: int64\n"
     ]
    }
   ],
   "source": [
    "#check for missing values\n",
    "print(data.isnull().sum())"
   ]
  },
  {
   "cell_type": "code",
   "execution_count": 4,
   "id": "6564239f-2b05-4e17-a522-0e757d01eae3",
   "metadata": {},
   "outputs": [],
   "source": [
    "price_columns = ['min_price', 'modal_price', 'max_price']\n",
    "for col in price_columns:\n",
    "    data[col].fillna(data.groupby('commodity')[col].transform('median'))"
   ]
  },
  {
   "cell_type": "markdown",
   "id": "2b413332-360f-4040-9676-1bb325481603",
   "metadata": {},
   "source": [
    "**Feature Engineering**"
   ]
  },
  {
   "cell_type": "code",
   "execution_count": 6,
   "id": "22eab945-526f-48bb-a3a0-87f470e17aa5",
   "metadata": {},
   "outputs": [],
   "source": [
    "# Add price spread \n",
    "data['price_spread'] = data['max_price'] - data['min_price']\n",
    "data['price_ratio'] = data['max_price'] / (data['min_price'] + 1e-5)  # Avoid division by zero"
   ]
  },
  {
   "cell_type": "code",
   "execution_count": 9,
   "id": "27a146c7-5b8b-49ed-bcef-f1853aecfa41",
   "metadata": {},
   "outputs": [],
   "source": [
    "\n",
    "data['arrival_date'] = pd.to_datetime(data['arrival_date'])\n",
    "data['month'] = data['arrival_date'].dt.month\n",
    "data['day_of_week'] = data['arrival_date'].dt.dayofweek\n",
    "data['year'] = data['arrival_date'].dt.year"
   ]
  },
  {
   "cell_type": "markdown",
   "id": "99a317de-063d-455f-94f7-9b561249fe46",
   "metadata": {},
   "source": [
    "**Encode Categorical Variables**"
   ]
  },
  {
   "cell_type": "code",
   "execution_count": 7,
   "id": "2fdda968-5d38-41f9-b4d5-74b33d1cfa8c",
   "metadata": {},
   "outputs": [],
   "source": [
    "# Encode 'state', 'apmc', and 'commodity' using Label Encoding\n",
    "label_encoders = {}\n",
    "for col in ['state', 'district','market', 'commodity']:\n",
    "    le = LabelEncoder()\n",
    "    data[col] = le.fit_transform(data[col])\n",
    "    label_encoders[col] = le"
   ]
  },
  {
   "cell_type": "markdown",
   "id": "0bfa0e73-864f-4eb9-b037-8bc45c68091a",
   "metadata": {},
   "source": [
    "**Normalize/Scale Data**"
   ]
  },
  {
   "cell_type": "code",
   "execution_count": 8,
   "id": "76ce1f12-f024-4690-a3d5-4438c81a0ddb",
   "metadata": {},
   "outputs": [],
   "source": [
    "scaler = MinMaxScaler()\n",
    "scaled_columns = ['min_price', 'modal_price', 'max_price',\n",
    "                  'price_spread', 'price_ratio']\n",
    "data[scaled_columns] = scaler.fit_transform(data[scaled_columns])"
   ]
  },
  {
   "cell_type": "markdown",
   "id": "e7b1285b-3a37-43e9-a182-c9f49e50e9f1",
   "metadata": {},
   "source": [
    "**Create Time-Series Data for LSTM**"
   ]
  },
  {
   "cell_type": "code",
   "execution_count": 10,
   "id": "5deaa777-484d-4668-82cc-546794ad9577",
   "metadata": {},
   "outputs": [],
   "source": [
    "# Group by commodity and sort by date for time-series modeling\n",
    "data.sort_values(['commodity', 'year', 'month', 'day_of_week'], inplace=True)"
   ]
  },
  {
   "cell_type": "code",
   "execution_count": 11,
   "id": "de7b7464-0d21-43c4-9def-3ead79363ff9",
   "metadata": {},
   "outputs": [],
   "source": [
    "# Prepare data for LSTM\n",
    "# Define features and target variables for each feature\n",
    "features = ['min_price', 'modal_price', 'max_price',\n",
    "            'price_spread', 'price_ratio','month', 'day_of_week']\n",
    "target_price = 'modal_price'  # Target for price recommendation"
   ]
  },
  {
   "cell_type": "code",
   "execution_count": 12,
   "id": "8c619a04-9250-4aaa-8f0c-81435973c979",
   "metadata": {},
   "outputs": [
    {
     "name": "stdout",
     "output_type": "stream",
     "text": [
      "Preprocessing complete. Data saved to 'preprocessed_trade_data.csv'\n"
     ]
    }
   ],
   "source": [
    "# Save preprocessed data\n",
    "data.to_csv('preprocessed_trade_data.csv', index=False)\n",
    "print(\"Preprocessing complete. Data saved to 'preprocessed_trade_data.csv'\")"
   ]
  },
  {
   "cell_type": "code",
   "execution_count": 1,
   "id": "b5be4089-bddf-4dc4-bad2-7ec32a6b41ec",
   "metadata": {},
   "outputs": [
    {
     "name": "stdout",
     "output_type": "stream",
     "text": [
      "Mapping for state:\n",
      "{'Assam': 0, 'Chattisgarh': 1, 'Gujarat': 2, 'Haryana': 3, 'Himachal Pradesh': 4, 'Jharkhand': 5, 'Karnataka': 6, 'Kerala': 7, 'Madhya Pradesh': 8, 'Maharashtra': 9, 'Meghalaya': 10, 'NCT of Delhi': 11, 'Orissa': 12, 'Pondicherry': 13, 'Punjab': 14, 'Rajasthan': 15, 'Tamil Nadu': 16, 'Telangana': 17, 'Tripura': 18, 'Uttar Pradesh': 19, 'Uttrakhand': 20, 'West Bengal': 21}\n",
      "Mapping for state saved to state_mapping.csv\n",
      "\n",
      "Mapping for district:\n",
      "{'Adilabad': 0, 'Agra': 1, 'Ahmedabad': 2, 'Ahmednagar': 3, 'Ajmer': 4, 'Akola': 5, 'Alappuzha': 6, 'Aligarh': 7, 'Allahabad': 8, 'Amarawati': 9, 'Ambala': 10, 'Ambedkarnagar': 11, 'Amreli': 12, 'Amritsar': 13, 'Anand': 14, 'Ariyalur': 15, 'Auraiya': 16, 'Aurangabad': 17, 'Azamgarh': 18, 'Badaun': 19, 'Bagalkot': 20, 'Baghpat': 21, 'Bahraich': 22, 'Ballia': 23, 'Balrampur': 24, 'Banaskanth': 25, 'Banda': 26, 'Bangalore': 27, 'Bankura': 28, 'Banswara': 29, 'Barabanki': 30, 'Baran': 31, 'Bareilly': 32, 'Bargarh': 33, 'Barmer': 34, 'Barnala': 35, 'Barpeta': 36, 'Bastar': 37, 'Basti': 38, 'Beed': 39, 'Belgaum': 40, 'Bellary': 41, 'Bhadrak': 42, 'Bhandara': 43, 'Bharatpur': 44, 'Bharuch': 45, 'Bhatinda': 46, 'Bhavnagar': 47, 'Bhiwani': 48, 'Bidar': 49, 'Bijapur': 50, 'Bijnor': 51, 'Bikaner': 52, 'Bilaspur': 53, 'Birbhum': 54, 'Bokaro': 55, 'Bolangir': 56, 'Boudh': 57, 'Bulandshahar': 58, 'Buldhana': 59, 'Burdwan': 60, 'Burhanpur': 61, 'Chamba': 62, 'Champawat': 63, 'Chamrajnagar': 64, 'Chandrapur': 65, 'Chhindwara': 66, 'Chikmagalur': 67, 'Chitradurga': 68, 'Chitrakut': 69, 'Chittorgarh': 70, 'Churu': 71, 'Coimbatore': 72, 'Coochbehar': 73, 'Cuddalore': 74, 'Cuttack': 75, 'Dahod': 76, 'Dakshin Dinajpur': 77, 'Darjeeling': 78, 'Dausa': 79, 'Davangere': 80, 'Dehradoon': 81, 'Delhi': 82, 'Deogarh': 83, 'Deoria': 84, 'Dewas': 85, 'Dhanbad': 86, 'Dhar': 87, 'Dharmapuri': 88, 'Dharwad': 89, 'Dhemaji': 90, 'Dhenkanal': 91, 'Dhule': 92, 'Dindigul': 93, 'Dindori': 94, 'Durg': 95, 'East Khasi Hills': 96, 'East Singhbhum': 97, 'Ernakulam': 98, 'Erode': 99, 'Etah': 100, 'Etawah': 101, 'Faizabad': 102, 'Faridabad': 103, 'Faridkot': 104, 'Farukhabad': 105, 'Fatehabad': 106, 'Fatehgarh': 107, 'Fatehpur': 108, 'Fazilka': 109, 'Ferozpur': 110, 'Firozabad': 111, 'Gadag': 112, 'Gadchiroli': 113, 'Gandhinagar': 114, 'Ganganagar': 115, 'Ganjam': 116, 'Garhwa': 117, 'Garhwal (Pauri)': 118, 'Gautam Budh Nagar': 119, 'Ghaziabad': 120, 'Ghazipur': 121, 'Giridih': 122, 'Godda': 123, 'Gonda': 124, 'Gorakhpur': 125, 'Gulbarga': 126, 'Gumla': 127, 'Gurdaspur': 128, 'Hamirpur': 129, 'Hanumangarh': 130, 'Harda': 131, 'Hardoi': 132, 'Haridwar': 133, 'Hassan': 134, 'Hathras': 135, 'Haveri': 136, 'Hingoli': 137, 'Hooghly': 138, 'Hoshangabad': 139, 'Hoshiarpur': 140, 'Howrah': 141, 'Hyderabad': 142, 'Idukki': 143, 'Indore': 144, 'Jaipur': 145, 'Jajpur': 146, 'Jalana': 147, 'Jalandhar': 148, 'Jalaun (Orai)': 149, 'Jalgaon': 150, 'Jalore': 151, 'Jalpaiguri': 152, 'Jamnagar': 153, 'Janjgir': 154, 'Jaunpur': 155, 'Jhalawar': 156, 'Jhansi': 157, 'Jind': 158, 'Jodhpur': 159, 'Junagarh': 160, 'Jyotiba Phule Nagar': 161, 'Kaithal': 162, 'Kamrup': 163, 'Kancheepuram': 164, 'Kangra': 165, 'Kannuj': 166, 'Kannur': 167, 'Kanpur': 168, 'Karaikal': 169, 'Karimnagar': 170, 'Karnal': 171, 'Karwar(Uttar Kannad)': 172, 'Kasargod': 173, 'Kendrapara': 174, 'Khammam': 175, 'Khargone': 176, 'Kheda': 177, 'Khiri (Lakhimpur)': 178, 'Khowai': 179, 'Koderma': 180, 'Kolar': 181, 'Kolhapur': 182, 'Kolkata': 183, 'Kollam': 184, 'Koppal': 185, 'Kota': 186, 'Kottayam': 187, 'Kozhikode(Calicut)': 188, 'Krishnagiri': 189, 'Kullu': 190, 'Kurukshetra': 191, 'Lakhimpur': 192, 'Lalitpur': 193, 'Latur': 194, 'Lohardaga': 195, 'Lucknow': 196, 'Ludhiana': 197, 'Madikeri(Kodagu)': 198, 'Madurai': 199, 'Maharajganj': 200, 'Mahasamund': 201, 'Mahbubnagar': 202, 'Mahendragarh-Narnaul': 203, 'Mahoba': 204, 'Mainpuri': 205, 'Malappuram': 206, 'Malda': 207, 'Malkangiri': 208, 'Mandi': 209, 'Mandsaur': 210, 'Mandya': 211, 'Mangalore(Dakshin Kannad)': 212, 'Mathura': 213, 'Mau(Maunathbhanjan)': 214, 'Mayurbhanja': 215, 'Medak': 216, 'Medinipur(E)': 217, 'Medinipur(W)': 218, 'Meerut': 219, 'Mehsana': 220, 'Mirzapur': 221, 'Moga': 222, 'Mohali': 223, 'Morbi': 224, 'Muktsar': 225, 'Mumbai': 226, 'Muradabad': 227, 'Murshidabad': 228, 'Muzaffarnagar': 229, 'Mysore': 230, 'Nadia': 231, 'Nagaon': 232, 'Nagpur': 233, 'Nalbari': 234, 'Nalgonda': 235, 'Namakkal': 236, 'Nanded': 237, 'Nanital': 238, 'Nashik': 239, 'Nawanshahr': 240, 'Nayagarh': 241, 'Neemuch': 242, 'Nizamabad': 243, 'North Bastar': 244, 'Nowarangpur': 245, 'Nuapada': 246, 'Osmanabad': 247, 'Padrauna(Kusinagar)': 248, 'Pakur': 249, 'Palakad': 250, 'Pali': 251, 'Panchkula': 252, 'Panchmahals': 253, 'Panna': 254, 'Parbhani': 255, 'Patan': 256, 'Pathanamthitta': 257, 'Pathankot': 258, 'Patiala': 259, 'Pillibhit': 260, 'Porbandar': 261, 'Pratapgarh': 262, 'Pune': 263, 'Puruliya': 264, 'Raebarelli': 265, 'Raichur': 266, 'Raigad': 267, 'Rajgarh': 268, 'Rajkot': 269, 'Rajnandgaon': 270, 'Ramanathapuram': 271, 'Rampur': 272, 'Ranchi': 273, 'Ranga Reddy Dist.': 274, 'Ratlam': 275, 'Ratnagiri': 276, 'Rohtak': 277, 'Ropar (Rupnagar)': 278, 'Sabarkantha': 279, 'Sagar': 280, 'Saharanpur': 281, 'Salem': 282, 'Sambalpur': 283, 'Sangli': 284, 'Sangrur': 285, 'Sant Kabir Nagar': 286, 'Satara': 287, 'Satna': 288, 'Sehore': 289, 'Shahjahanpur': 290, 'Shajapur': 291, 'Sheopur': 292, 'Shimla': 293, 'Shimoga': 294, 'Sholapur': 295, 'Shravasti': 296, 'Siddharth Nagar': 297, 'Sikar': 298, 'Simdega': 299, 'Sirmore': 300, 'Sirohi': 301, 'Sirsa': 302, 'Sitapur': 303, 'Sivaganga': 304, 'Solan': 305, 'Sonbhadra': 306, 'Sonepur': 307, 'Sonipat': 308, 'Sonitpur': 309, 'Sultanpur': 310, 'Sundergarh': 311, 'Surat': 312, 'Surendranagar': 313, 'Surguja': 314, 'Swai Madhopur': 315, 'Tarntaran': 316, 'Thane': 317, 'Thanjavur': 318, 'Theni': 319, 'Thirunelveli': 320, 'Thiruvananthapuram': 321, 'Thiruvannamalai': 322, 'Thiruvarur': 323, 'Tonk': 324, 'Tumkur': 325, 'Udaipur': 326, 'UdhamSinghNagar': 327, 'Udupi': 328, 'Ujjain': 329, 'Una': 330, 'Unnao': 331, 'Uttar Dinajpur': 332, 'Vadodara(Baroda)': 333, 'Valsad': 334, 'Varanasi': 335, 'Vellore': 336, 'Vidisha': 337, 'Villupuram': 338, 'Virudhunagar': 339, 'Warangal': 340, 'Wardha': 341, 'West District': 342, 'West Garo Hills': 343, 'West Jaintia Hills': 344, 'Yamuna Nagar': 345, 'Yavatmal': 346, 'kapurthala': 347}\n",
      "Mapping for district saved to district_mapping.csv\n",
      "\n",
      "Mapping for market:\n",
      "{'Abohar': 0, 'Abu Road': 1, 'Achampet': 2, 'Achampet(Amrabad)': 3, 'Achnera': 4, 'Adampur': 5, 'Adilabad': 6, 'Agra': 7, 'Ahirora': 8, 'Ahmedabad': 9, 'Ahmedabad(Rajnagar sub yard)': 10, 'Ahmedpur': 11, 'Ait': 12, 'Ajaygarh': 13, 'Ajnala': 14, 'Akaltara': 15, 'Akbarpur': 16, 'Akluj': 17, 'Akola': 18, 'Akole': 19, 'Alangeyam': 20, 'Aler': 21, 'Aliganj': 22, 'Aligarh': 23, 'Allahabad': 24, 'Aluva': 25, 'Amadula': 26, 'Amalner': 27, 'Amarawati': 28, 'Ambad (Vadigodri)': 29, 'Ambasamudram': 30, 'Ambikapur': 31, 'Ammoor': 32, 'Amrawati(Frui & Veg. Market)': 33, 'Amreli': 34, 'Amroha': 35, 'Anand(Veg,Yard,Anand)': 36, 'Anandnagar': 37, 'Anandpur Sahib': 38, 'Anchal': 39, 'Angamaly': 40, 'Ankleshwar': 41, 'Annigeri': 42, 'Annur': 43, 'Anoop Shahar': 44, 'Anwala': 45, 'Arasikere': 46, 'Ariyalur Market': 47, 'Armoor': 48, 'Armori': 49, 'Aroor': 50, 'Arur': 51, 'Arvi': 52, 'Asandh': 53, 'Asifabad': 54, 'Athagarh': 55, 'Athirampuzha': 56, 'Atmakur': 57, 'Atrauli': 58, 'Attingal': 59, 'Attur': 60, 'Auraiya': 61, 'Awagarh': 62, 'Azadpur': 63, 'Azamgarh': 64, 'Baberu': 65, 'Babrala': 66, 'Bachranwa': 67, 'Badayoun': 68, 'Badda': 69, 'Badnagar': 70, 'Badnawar': 71, 'Badrisadri': 72, 'Bagalakot': 73, 'Bagasara': 74, 'Baghapurana': 75, 'Bagpat': 76, 'Bagru': 77, 'Bahadajholla': 78, 'Bahedi': 79, 'Bahraich': 80, 'Balachaur': 81, 'Balarampur': 82, 'Balasinor': 83, 'Ballabhgarh': 84, 'Ballia': 85, 'Balrampur': 86, 'Balurghat': 87, 'Banda': 88, 'Banga': 89, 'Bangalore': 90, 'Bangarmau': 91, 'Bangarpet': 92, 'Banki': 93, 'Bankura Sadar': 94, 'Banswada': 95, 'Banswara': 96, 'Banur': 97, 'Banur (Kheragaju)': 98, 'Bara Bazar (Posta Bazar)': 99, 'Barabanki': 100, 'Baran': 101, 'Baraut': 102, 'Bareilly': 103, 'Bargarh(Barapalli)': 104, 'Bargur': 105, 'Barhaj': 106, 'Bariwala': 107, 'Barmer': 108, 'Barnala': 109, 'Barshi': 110, 'Baruwasagar': 111, 'Barwala': 112, 'Basava Kalayana': 113, 'Bassi Pathana': 114, 'Basti': 115, 'Batala': 116, 'Baxirhat': 117, 'Beawar': 118, 'Becharaji': 119, 'Beed': 120, 'Bellary': 121, 'Belthangdi': 122, 'Bethuadahari': 123, 'Bewar': 124, 'Bhadrachalam': 125, 'Bhadrak': 126, 'Bhadravathi': 127, 'Bhagta Bhai Ka': 128, 'Bhainsa': 129, 'Bhanjanagar': 130, 'Bhanvad': 131, 'Bharthna': 132, 'Bharuasumerpur': 133, 'Bhavnagar': 134, 'Bheenmal(Ranlwada)': 135, 'Bhehjoi': 136, 'Bhiknoor': 137, 'Bhokar': 138, 'Bhongir': 139, 'Bhucho': 140, 'Bhuntar': 141, 'Bidar': 142, 'Bijapur': 143, 'Bijay Nagar': 144, 'Bilaspur': 145, 'Bilga': 146, 'Billsadda': 147, 'Bilsi': 148, 'Bindki': 149, 'Binny Mill (F&V), Bangalore': 150, 'Birbhum': 151, 'Birkur': 152, 'Birmaharajpur': 153, 'Bishnupur(Bankura)': 154, 'Boath': 155, 'Bodeli(Hadod)': 156, 'Bodeli(Kalediya)': 157, 'Bodeli(Modasar)': 158, 'Bodhan': 159, 'Bodinayakkanur': 160, 'Bohorihat': 161, 'Bokaro (Chas)': 162, 'Bolangir': 163, 'Bolpur': 164, 'Bonai': 165, 'Boudh': 166, 'Bowenpally': 167, 'Brahmpuri': 168, 'Buland Shahr': 169, 'Burdwan': 170, 'Burgampadu': 171, 'Burhanpur': 172, 'Burhanpur(F&V)': 173, 'Byadagi': 174, 'Chaandpur': 175, 'Chakulia': 176, 'Chala': 177, 'Chalisgaon': 178, 'Chamaraj Nagar': 179, 'Chamba': 180, 'Chamkaur Sahib': 181, 'Champa': 182, 'Champadanga': 183, 'Chandausi': 184, 'Chandrapur': 185, 'Chandrapur(Ganjwad)': 186, 'Chandur': 187, 'Chandur(Mungodu)': 188, 'Channapatana': 189, 'Charama': 190, 'Charla': 191, 'Charra': 192, 'Chathanoor': 193, 'Chatta Krushak Bazar': 194, 'Chengannur': 195, 'Cherial': 196, 'Cherthala': 197, 'Chevella': 198, 'Cheyyar': 199, 'Chhachrauli': 200, 'Chhibramau(Kannuj)': 201, 'Chhindwara(F&V)': 202, 'Chikkamagalore': 203, 'Chikli(Khorgam)': 204, 'Chimur': 205, 'Chinnamanur': 206, 'Chinnasalem': 207, 'Chintamani': 208, 'Chitradurga': 209, 'Chittapur': 210, 'Chittorgarh': 211, 'Chitwadagaon': 212, 'Chityal': 213, 'Chogawan': 214, 'Chopada': 215, 'Choppadandi': 216, 'Chorichora': 217, 'Chotila': 218, 'Choubepur': 219, 'Choutuppal': 220, 'Churu': 221, 'Chutmalpur': 222, 'Coimbatore': 223, 'Coochbehar': 224, 'Cuddalore': 225, 'Cumbum': 226, 'Dadri': 227, 'Dahod': 228, 'Dahod(Veg. Market)': 229, 'Dammapet': 230, 'Daryapur': 231, 'Dasuya': 232, 'Dataganj': 233, 'Davangere': 234, 'Davgadbaria(Piplod)': 235, 'Deesa': 236, 'Deesa(Bhildi)': 237, 'Dehgam': 238, 'Dehgam(Rekhiyal)': 239, 'Dehradoon': 240, 'Denkanikottai': 241, 'Deogarh': 242, 'Deoli': 243, 'Deoulgaon Raja': 244, 'Dera Baba Nanak': 245, 'Dera Bassi': 246, 'Devala': 247, 'Devarakonda': 248, 'Devariya': 249, 'Devarkonda(Dindi)': 250, 'Devarkonda(Mallepalli)': 251, 'Devgadhbaria': 252, 'Dhampur': 253, 'Dhanaula': 254, 'Dhanbad': 255, 'Dhand': 256, 'Dhandhuka': 257, 'Dhanera': 258, 'Dhanura': 259, 'Dharampuri': 260, 'Dhariwal': 261, 'Dharmabad': 262, 'Dharmapuri': 263, 'Dhekiajuli': 264, 'Dhing': 265, 'Dhoraji': 266, 'Dhrol': 267, 'Dhule': 268, 'Dhuri': 269, 'Dindigul': 270, 'Dindori': 271, 'Ding': 272, 'Dinhata': 273, 'Divai': 274, 'Doharighat': 275, 'Dondaicha': 276, 'Doraha': 277, 'Dornakal': 278, 'Dubbak': 279, 'Dungurapalli': 280, 'Durg': 281, 'Egra/contai': 282, 'English Bazar': 283, 'Enkoor': 284, 'Etah': 285, 'Etawah': 286, 'Ettumanoor': 287, 'Faizabad': 288, 'Falakata': 289, 'Faridabad': 290, 'Faridkot': 291, 'Farukhabad': 292, 'Fatehabad': 293, 'Fatehpur': 294, 'Fatehpur Sikri': 295, 'Firozabad': 296, 'Firozepur City': 297, 'Flower Market,Gazipur': 298, 'Fruit Market': 299, 'Gadag': 300, 'Gadaura': 301, 'Gaddiannaram': 302, 'Gadhwah': 303, 'Gadwal': 304, 'Gandchiroli': 305, 'Gandhari': 306, 'Gangadhara': 307, 'Gangapur': 308, 'Gangapur City': 309, 'Gangapurcity(Old Lal mandi)': 310, 'Gangarampur(Dakshin Dinajpur)': 311, 'Gangavalli': 312, 'Gangavathi': 313, 'Gangoh': 314, 'Garhakota': 315, 'Gharaunda': 316, 'Ghatal': 317, 'Ghaziabad': 318, 'Ghiraur': 319, 'Giddarbaha': 320, 'Gingee': 321, 'Giridih': 322, 'Godda': 323, 'Gogamba': 324, 'Gogamba(Similiya)': 325, 'Gohana': 326, 'Golagokarnath': 327, 'Gollapally': 328, 'Goluwala': 329, 'Gonda': 330, 'Gonikappal': 331, 'Gopa': 332, 'Gopalpatti': 333, 'Gorakhpur': 334, 'Goraya': 335, 'Gosala': 336, 'Gowribidanoor': 337, 'Gudimalkapur': 338, 'Gulabganj': 339, 'Gulavati': 340, 'Gulbarga': 341, 'Gumla': 342, 'Gundlupet': 343, 'Gurdaspur': 344, 'Guskara(Burdwan)': 345, 'Haatpipliya': 346, 'Haldaur': 347, 'Haldwani': 348, 'Halia': 349, 'Haliyala': 350, 'Halvad': 351, 'Hamirpur': 352, 'Hamirpur(Nadaun)': 353, 'Hanagal': 354, 'Hanumangarh': 355, 'Hanumangarh Town': 356, 'Hanumangarh(Urlivas)': 357, 'Hapur': 358, 'Harda(F&V)': 359, 'Hardoi': 360, 'Hargaon (Laharpur)': 361, 'Harihara': 362, 'Harike': 363, 'Harippad': 364, 'Hasanpur': 365, 'Haveri': 366, 'Himatnagar': 367, 'Hinganghat': 368, 'Hingoli(Kanegoan Naka)': 369, 'Hirekerur': 370, 'Holalkere': 371, 'Holenarsipura': 372, 'Honnali': 373, 'Honnavar': 374, 'Hoovinahadagali': 375, 'Hosanagar': 376, 'Hosur': 377, 'Hunsur': 378, 'Huzzurabad': 379, 'Hyderabad (F&V)': 380, 'Ichoda': 381, 'Indore(F&V)': 382, 'Indravelly(Utnoor)': 383, 'Indus(Bankura Sadar)': 384, 'Islampur': 385, 'Itarsi': 386, 'Itawa': 387, 'Jafarganj': 388, 'Jagadhri': 389, 'Jagnair': 390, 'Jahanabad': 391, 'Jainath': 392, 'Jainoor': 393, 'Jajpur': 394, 'Jalalabad': 395, 'Jalandhar City(Jalandhar)': 396, 'Jalaun': 397, 'Jalgaon': 398, 'Jalgaon(Masawat)': 399, 'Jalpaiguri Sadar': 400, 'Jambusar': 401, 'Jambusar(Kaavi)': 402, 'Jammikunta': 403, 'Jangaon': 404, 'Jarar': 405, 'Jasdan': 406, 'Jaspur(UC)': 407, 'Jasra': 408, 'Jasvantnagar': 409, 'Jaunpur': 410, 'Javer': 411, 'Jayas': 412, 'Jhansi': 413, 'Jodhpur (Grain)(Mandor)': 414, 'Jodhpur(Grain)(Bhagat Ki Kothi)': 415, 'Jogipet': 416, 'Jowai': 417, 'Jui': 418, 'Jullana': 419, 'Junagadh': 420, 'Junnar(Alephata)': 421, 'K.R. Pet': 422, 'Kadhle': 423, 'Kadi': 424, 'Kadi(Kadi cotton Yard)': 425, 'Kagaznagar': 426, 'Kairana': 427, 'Kalagategi': 428, 'Kalanaur': 429, 'Kalapipal': 430, 'Kalimpong': 431, 'Kalipur': 432, 'Kallachi': 433, 'Kallakurichi': 434, 'Kallur': 435, 'Kalmeshwar': 436, 'Kalna': 437, 'Kalvan': 438, 'Kalyani': 439, 'Kamakhyanagar': 440, 'Kamalghat': 441, 'Kambainallur': 442, 'Kammarpally': 443, 'Kamthi': 444, 'Kamuthi': 445, 'Kanakapura': 446, 'Kangeyam': 447, 'Kangra': 448, 'Kanjirappally': 449, 'Kannauj': 450, 'Kannur': 451, 'Kanpur(Grain)': 452, 'Kantabaji': 453, 'Kapurthala': 454, 'Karaikal': 455, 'Karamadai': 456, 'Karanjia': 457, 'Karimnagar': 458, 'Karsiyang(Matigara)': 459, 'Karumanturai': 460, 'Karvi': 461, 'Kashipur': 462, 'Kasimbazar': 463, 'Kathalapur': 464, 'Katol': 465, 'Katra': 466, 'Katwa': 467, 'Kavunthapadi': 468, 'Kayamganj': 469, 'Kayamkulam': 470, 'Kendrapara': 471, 'Kendrapara(Marshaghai)': 472, 'Kendupatna': 473, 'Kendupatna(Niali)': 474, 'Khair': 475, 'Khairagarh': 476, 'Khalilabad': 477, 'Khambhat(Grain Market)': 478, 'Khammam': 479, 'Khanapur': 480, 'Khanpur': 481, 'Kharar': 482, 'Khargone': 483, 'Khariar': 484, 'Khatauli': 485, 'Khatra': 486, 'Khedbrahma': 487, 'Khekda': 488, 'Khujner': 489, 'Khunthabandha': 490, 'Khurja': 491, 'Kicchha': 492, 'Kille Dharur': 493, 'Kinwat': 494, 'Kiratpur': 495, 'Kodad': 496, 'Kodakandal': 497, 'Koderma': 498, 'Kolaghat': 499, 'Kolar': 500, 'Kolathur': 501, 'Kolhapur': 502, 'Kolhapur(Malkapur)': 503, 'Kollapur': 504, 'Komakhan': 505, 'Konch': 506, 'Konganapuram': 507, 'Kopaganj': 508, 'Koradacheri': 509, 'Koratla': 510, 'Kosikalan': 511, 'Kot ise Khan': 512, 'Kota': 513, 'Kotadwara': 514, 'Kothagudem': 515, 'Kothamangalam': 516, 'Kotmi': 517, 'Kottakkal': 518, 'Kottarakkara': 519, 'Kottur': 520, 'Krishnagiri': 521, 'Kuber': 522, 'Kudavasal': 523, 'Kudchi': 524, 'Kukshi': 525, 'Kullu': 526, 'Kumbakonam': 527, 'Kumta': 528, 'Kundapura': 529, 'Kurali': 530, 'Kuruppanthura': 531, 'Kuttoor': 532, 'L B Nagar': 533, 'Lakhandur': 534, 'Lakhanpuri': 535, 'Lakhimpur': 536, 'Lakshar': 537, 'Lalganj': 538, 'Lalgarh Jatan': 539, 'Lalitpur': 540, 'Lalru': 541, 'Lalsot': 542, 'Laxmeshwar': 543, 'Loharda': 544, 'Lohardaga': 545, 'Loharu': 546, 'Lohian Khas': 547, 'Lucknow': 548, 'Lunkaransar': 549, 'Machalpur': 550, 'Madathukulam': 551, 'Madhira': 552, 'Madhoganj': 553, 'Madhugiri': 554, 'Madnoor': 555, 'Madurai': 556, 'Mahbubnagar': 557, 'Mahoba': 558, 'Maholi': 559, 'Mahuva(Station Road)': 560, 'Maigalganj': 561, 'Mainpuri': 562, 'Majitha': 563, 'Makhu': 564, 'Malegaon(Umarane)': 565, 'Malkanagiri': 566, 'Malkangiri(Korakunda)': 567, 'Mallial(Cheppial)': 568, 'Malout': 569, 'Malur': 570, 'Mandi(Mandi)': 571, 'Mandsaur': 572, 'Mandsaur(F&V)': 573, 'Mandvi': 574, 'Mandya': 575, 'Mangal Wedha': 576, 'Mangalore': 577, 'Mangrol': 578, 'Manjeri': 579, 'Manmad': 580, 'Mannar': 581, 'Mannargudi': 582, 'Mansa': 583, 'Mansa(Manas Veg Yard)': 584, 'Manthani': 585, 'Manvi': 586, 'Mau': 587, 'Mau(Chitrakut)': 588, 'Maudaha': 589, 'Medak': 590, 'Medchal': 591, 'Medinipur(West)': 592, 'Medipally': 593, 'Meerut': 594, 'Meghraj': 595, 'Meham': 596, 'Mehatpur': 597, 'Mehmadabad': 598, 'Mehrauni': 599, 'Mekhliganj': 600, 'Melur': 601, 'Metpally': 602, 'Mhalingapur': 603, 'Mihipurwa': 604, 'Milak': 605, 'Mirzapur': 606, 'Misrikh': 607, 'Modasa': 608, 'Modasa(Tintoi)': 609, 'Mohammdi': 610, 'Mohindergarh': 611, 'Momanbadodiya': 612, 'Moodigere': 613, 'Moth': 614, 'Mothkur': 615, 'Mugrabaadshahpur': 616, 'Mukkom': 617, 'Muktsar': 618, 'Mullana': 619, 'Mumbai': 620, 'Mundaragi': 621, 'Muradabad': 622, 'Muradnagar': 623, 'Murbad': 624, 'Muskara': 625, 'Muzzafarnagar': 626, 'Mysore (Bandipalya)': 627, 'Naanpara': 628, 'Nabarangpur(Umerkote)': 629, 'Nabha': 630, 'Nadiad': 631, 'Nadiyad(Piplag)': 632, 'Nagar': 633, 'Nagarkurnool': 634, 'Nagina': 635, 'Nagod': 636, 'Nagpur': 637, 'Nahan': 638, 'Naila': 639, 'Najibabad': 640, 'Nakrekal': 641, 'Nakud': 642, 'Nalbari': 643, 'Nalgonda': 644, 'Namagiripettai': 645, 'Namakkal': 646, 'Nanjangud': 647, 'Naraingarh': 648, 'Narayankhed': 649, 'Nargunda': 650, 'Narharpur': 651, 'Narnaul': 652, 'Narsampet': 653, 'Narsapur': 654, 'Nasik': 655, 'Nasrullaganj': 656, 'Natham': 657, 'Nautnava': 658, 'Nawan Shahar(Mandi Aur)': 659, 'Nawan Shahar(MandiRaho)': 660, 'Nawan Shahar(Subzi Mandi)': 661, 'Nawarangpur': 662, 'Neeleswaram': 663, 'Neemuch': 664, 'Negamam': 665, 'Nelakondapally': 666, 'Neredcherla': 667, 'New Grain Market , Panchkula': 668, 'Neyyatinkara': 669, 'Nidamanoor': 670, 'Nihal Singh Wala': 671, 'Nirmal': 672, 'Nissing': 673, 'Nizar': 674, 'Noida': 675, 'Noor Mehal': 676, 'Omalur': 677, 'Orathanadu': 678, 'P.O. Uparhali Guwahati': 679, 'Pachora': 680, 'Pachora(Bhadgaon)': 681, 'Padampur': 682, 'Pakur': 683, 'Pala': 684, 'Palakkad': 685, 'Palakode': 686, 'Palam': 687, 'Palani': 688, 'Palanpur': 689, 'Palayam': 690, 'Palghar': 691, 'Pali': 692, 'Paliakala': 693, 'Palladam': 694, 'Pallipattu': 695, 'Palus': 696, 'Panchkul(Kalka)': 697, 'Panchpedwa': 698, 'Pandharpur': 699, 'Panposh': 700, 'Paonta Sahib': 701, 'Papparapatti': 702, 'Pappireddipatti': 703, 'Paranda': 704, 'Parappanangadi': 705, 'Parassala': 706, 'Parbhani': 707, 'Parner': 708, 'Parshiwani': 709, 'Partaval': 710, 'Patan': 711, 'Pathankot': 712, 'Patiala': 713, 'Pattambi': 714, 'Pattamundai': 715, 'Patti': 716, 'Pattukottai': 717, 'Pavani': 718, 'Payagpur': 719, 'Pehowa': 720, 'Pennagaram': 721, 'Perambra': 722, 'Perumbavoor': 723, 'Pethappampatti': 724, 'Phillaur': 725, 'Phillaur(Apra Mandi)': 726, 'Pilibhit': 727, 'Pimpalgaon': 728, 'Pimpalgaon Baswant(Saykheda)': 729, 'Pipar City': 730, 'Pipli': 731, 'Piriya Pattana': 732, 'Pochampalli': 733, 'Pongalur': 734, 'Poonthottam': 735, 'Porbandar': 736, 'Pothgal': 737, 'Pratapgarh': 738, 'Pudupalayam': 739, 'Pudur': 740, 'Pukhrayan': 741, 'Pulgaon': 742, 'Punalur': 743, 'Pundibari': 744, 'Pundri': 745, 'Pune': 746, 'Pune(Hadapsar)': 747, 'Pune(Pimpri)': 748, 'Puranpur': 749, 'Purulia': 750, 'Purwa': 751, 'Puttur': 752, 'Puwaha': 753, 'Quilandy': 754, 'Raath': 755, 'Radaur': 756, 'Rahata': 757, 'Rahuri': 758, 'Rahuri(Vambori)': 759, 'Raibareilly': 760, 'Raiganj': 761, 'Rajkot': 762, 'Rajkot(Ghee Peeth)': 763, 'Rajnandgaon': 764, 'Rajula': 765, 'Ralegaon': 766, 'Ramanagara': 767, 'Ramayampet': 768, 'Ramgang Mandi(Bapawarkala)': 769, 'Ramgang Mandi(Samod)': 770, 'Ramkrishanpur(Howrah)': 771, 'Ramnagar': 772, 'Rampur': 773, 'Rampuraphul(Nabha Mandi)': 774, 'Rampurhat': 775, 'Rampurmaniharan': 776, 'Ranaghat': 777, 'Ranchi': 778, 'Randheja(Chiloda)': 779, 'Rasda': 780, 'Rasipuram': 781, 'Ratlam(F&V)': 782, 'Ratnagiri (Nachane)': 783, 'Richha': 784, 'Rishikesh': 785, 'Risia': 786, 'Robertsganj': 787, 'Roha': 788, 'Rona': 789, 'Roorkee': 790, 'Rudauli': 791, 'Rudrapur': 792, 'Ruperdeeha': 793, 'S.Mandvi': 794, 'Sadulshahar': 795, 'Saharanpur': 796, 'Sahaspur': 797, 'Sahidngar': 798, 'Sahiyapur': 799, 'Sahnewal': 800, 'Salem': 801, 'Sambalpur': 802, 'Sambhal': 803, 'Sami': 804, 'Sampla': 805, 'Samsi': 806, 'Sandi': 807, 'Sangamner': 808, 'Sangli': 809, 'Sangli(Phale, Bhajipura Market)': 810, 'Santhesargur': 811, 'Santoshgarh': 812, 'Sarangapur': 813, 'Sarankul': 814, 'Sardhana': 815, 'Sargipali': 816, 'Sathur': 817, 'Sattupalli': 818, 'Savali': 819, 'Savarkundla': 820, 'Sealdah Koley Market': 821, 'Sehjanwa': 822, 'Sehore': 823, 'Selu': 824, 'Senjeri': 825, 'Sevur': 826, 'Shadabad': 827, 'Shadnagar': 828, 'Shahabad': 829, 'Shahabad(New Mandi)': 830, 'Shahaswan': 831, 'Shahganj': 832, 'Shahjahanpur': 833, 'Shahzadpur': 834, 'Shajapur': 835, 'Shajapur(F&V)': 836, 'Shakti': 837, 'Shamli': 838, 'Shevgaon': 839, 'Shevgaon(Bodhegaon)': 840, 'Shikaripura': 841, 'Shikohabad': 842, 'Shillong': 843, 'Shimla': 844, 'Shimoga': 845, 'Shrirampur': 846, 'Siddapur': 847, 'Siddhpur': 848, 'Siddipet': 849, 'Sikandraraau': 850, 'Sikarpur': 851, 'Silapathar': 852, 'Siliguri': 853, 'Sillod': 854, 'Simdega': 855, 'Sindagi(Hendi)': 856, 'Sindevahi': 857, 'Sindholi': 858, 'Singampuneri': 859, 'Sinner': 860, 'Sircilla': 861, 'Sitapur': 862, 'Siyana': 863, 'Sohela': 864, 'Solan': 865, 'Solapur': 866, 'Somvarpet': 867, 'Sorabha': 868, 'Sriganganagar': 869, 'Srinivasapur': 870, 'Srirangapattana': 871, 'Sultanabad': 872, 'Sultanpur': 873, 'Sultanpurchilkana': 874, 'Sulya': 875, 'Sunam': 876, 'Surajgarh': 877, 'Surat': 878, 'Suratgarh': 879, 'Suryapeta': 880, 'Syopurkalan(F&V)': 881, 'Takhatpur': 882, 'Talalagir': 883, 'Talod': 884, 'Talwandi Bhai': 885, 'Tamkuhi Road': 886, 'Tanakpur': 887, 'Tanda': 888, 'Tanda(Rampur)': 889, 'Tarantaran': 890, 'Tarapur': 891, 'Tarikere': 892, 'Tasgaon': 893, 'Telhara': 894, 'Teliamura': 895, 'Thalaivasal': 896, 'Thalavadi': 897, 'Thalayolaparambu': 898, 'Thammampati': 899, 'Thanabhawan': 900, 'Thara': 901, 'Theni': 902, 'Thenkasi': 903, 'Thirukkalukundram': 904, 'Thirukovilur': 905, 'Thirumangalam': 906, 'Thiruppur': 907, 'Thiruvarur': 908, 'Thiryagadurgam': 909, 'Thodupuzha': 910, 'Thondamuthur': 911, 'Thorrur': 912, 'Thrippunithura': 913, 'Tilhar': 914, 'Tindivanam': 915, 'Tiphra': 916, 'Tiruchengode': 917, 'Tirunelvali': 918, 'Tiruthuraipoondi': 919, 'Togguta': 920, 'Toofanganj': 921, 'Tuljapur': 922, 'Tumkur': 923, 'Tundla': 924, 'Tura': 925, 'Turvekere': 926, 'Tusura': 927, 'Udaipur(F&V)': 928, 'Udumalpet': 929, 'Udupi': 930, 'Uluberia': 931, 'Umared': 932, 'Umarked(Danki)': 933, 'Umarkhed': 934, 'Una': 935, 'Unava': 936, 'Unjha': 937, 'Unnao': 938, 'Uthangarai': 939, 'Utraula': 940, 'Uttaripura': 941, 'Vadakkenchery': 942, 'Vadamadurai ': 943, 'Vadhvan': 944, 'Vaduvur': 945, 'Vai': 946, 'Valangaiman': 947, 'Valathi': 948, 'Vankaner': 949, 'Varanasi(F&V)': 950, 'Varanasi(Grain)': 951, 'Vasai': 952, 'Vashi New Mumbai': 953, 'Vathlagundu': 954, 'Vazhapadi': 955, 'Vedachandur': 956, 'Vellakkoil': 957, 'Vellore': 958, 'Velur': 959, 'Vemulawada': 960, 'Venkateswarnagar': 961, 'Venkateswarnagar(Chintapalli)': 962, 'Vijapur': 963, 'Vijapur(Gojjariya)': 964, 'Vijapur(Kukarvada)': 965, 'Vikasnagar': 966, 'Vikkiravandi': 967, 'Villupuram': 968, 'Visavadar': 969, 'Vishalpur': 970, 'Visoli': 971, 'Viswan': 972, 'Vita': 973, 'Voligonda': 974, 'Voligonda(Ramannapet)': 975, 'Vyra': 976, 'Wanaparthy town': 977, 'Warangal': 978, 'Wardha': 979, 'Wazirganj': 980, 'Wyra': 981, 'Yadgir': 982, 'Yellandu': 983, 'Yellapur': 984, 'Yellareddy': 985, 'Yeola': 986, 'Yeotmal': 987, 'Yusufpur': 988, 'kalanwali': 989}\n",
      "Mapping for market saved to market_mapping.csv\n",
      "\n",
      "Mapping for commodity:\n",
      "{'Alasande Gram': 0, 'Amaranthus': 1, 'Amphophalus': 2, 'Apple': 3, 'Arecanut(Betelnut/Supari)': 4, 'Arhar (Tur/Red Gram)': 5, 'Arhar Dal(Tur Dal)': 6, 'Ashgourd': 7, 'Avare Dal': 8, 'Bajra(Pearl Millet/Cumbu)': 9, 'Banana': 10, 'Banana - Green': 11, 'Barley (Jau)': 12, 'Beans': 13, 'Beetroot': 14, 'Bengal Gram Dal (Chana Dal)': 15, 'Bengal Gram(Gram)': 16, 'Ber(Zizyphus/Borehannu)': 17, 'Betal Leaves': 18, 'Bhindi(Ladies Finger)': 19, 'Bitter gourd': 20, 'Black Gram (Urd Beans)': 21, 'Black Gram Dal (Urd Dal)': 22, 'Black pepper': 23, 'Bottle gourd': 24, 'Brinjal': 25, 'Broken Rice': 26, 'Cabbage': 27, 'Capsicum': 28, 'Cardamoms': 29, 'Carrot': 30, 'Cashewnuts': 31, 'Castor Seed': 32, 'Cauliflower': 33, 'Chapparad Avare': 34, 'Chennangi Dal': 35, 'Chikoos(Sapota)': 36, 'Chili Red': 37, 'Chilly Capsicum': 38, 'Chrysanthemum': 39, 'Cloves': 40, 'Cluster beans': 41, 'Coconut': 42, 'Coconut Oil': 43, 'Coconut Seed': 44, 'Coffee': 45, 'Colacasia': 46, 'Copra': 47, 'Coriander(Leaves)': 48, 'Cornation': 49, 'Corriander seed': 50, 'Cotton': 51, 'Cowpea (Lobia/Karamani)': 52, 'Cowpea(Veg)': 53, 'Cucumbar(Kheera)': 54, 'Cummin Seed(Jeera)': 55, 'Dalda': 56, 'Drumstick': 57, 'Dry Chillies': 58, 'Duster Beans': 59, 'Egg': 60, 'Elephant Yam (Suran)': 61, 'Field Pea': 62, 'Firewood': 63, 'Fish': 64, 'Foxtail Millet(Navane)': 65, 'French Beans (Frasbean)': 66, 'Garlic': 67, 'Gingelly Oil': 68, 'Ginger(Dry)': 69, 'Ginger(Green)': 70, 'Gladiolus Cut Flower': 71, 'Gram Raw(Chholia)': 72, 'Grapes': 73, 'Green Avare (W)': 74, 'Green Chilli': 75, 'Green Gram (Moong)': 76, 'Green Gram Dal (Moong Dal)': 77, 'Green Peas': 78, 'Ground Nut Seed': 79, 'Groundnut': 80, 'Groundnut (Split)': 81, 'Guar': 82, 'Guar Seed(Cluster Beans Seed)': 83, 'Guava': 84, 'Gur(Jaggery)': 85, 'Honge seed': 86, 'Indian Beans (Seam)': 87, 'Isabgul (Psyllium)': 88, 'Jack Fruit': 89, 'Jaffri': 90, 'Jarbara': 91, 'Jowar(Sorghum)': 92, 'Jute': 93, 'Kabuli Chana(Chickpeas-White)': 94, 'Karbuja(Musk Melon)': 95, 'Kinnow': 96, 'Knool Khol': 97, 'Kulthi(Horse Gram)': 98, 'Lak(Teora)': 99, 'Leafy Vegetable': 100, 'Lemon': 101, 'Lentil(Masur)': 102, 'Lilly': 103, 'Lime': 104, 'Linseed': 105, 'Lint': 106, 'Little gourd (Kundru)': 107, 'Long Melon(Kakri)': 108, 'Mahua': 109, 'Maida Atta': 110, 'Maize': 111, 'Mango': 112, 'Mango (Raw-Ripe)': 113, 'Marget': 114, 'Marigold(Calcutta)': 115, 'Marigold(loose)': 116, 'Mashrooms': 117, 'Masur Dal': 118, 'Mataki': 119, 'Methi Seeds': 120, 'Methi(Leaves)': 121, 'Mint(Pudina)': 122, 'Moath Dal': 123, 'Mousambi(Sweet Lime)': 124, 'Mustard': 125, 'Mustard Oil': 126, 'Myrobolan(Harad)': 127, 'Nutmeg': 128, 'Onion': 129, 'Onion Green': 130, 'Orange': 131, 'Orchid': 132, 'Paddy(Dhan)': 133, 'Papaya': 134, 'Papaya (Raw)': 135, 'Patti Calcutta': 136, 'Peas Wet': 137, 'Peas cod': 138, 'Peas(Dry)': 139, 'Pepper ungarbled': 140, 'Pigs': 141, 'Pine Apple': 142, 'Plum': 143, 'Pointed gourd (Parval)': 144, 'Pomegranate': 145, 'Potato': 146, 'Pumpkin': 147, 'Raddish': 148, 'Ragi (Finger Millet)': 149, 'Raibel': 150, 'Rajgir': 151, 'Rice': 152, 'Ridgeguard(Tori)': 153, 'Rose(Local)': 154, 'Rose(Loose)': 155, 'Round gourd': 156, 'Rubber': 157, 'Safflower': 158, 'Sajje': 159, 'Seemebadnekai': 160, 'Sesamum(Sesame,Gingelly,Til)': 161, 'Snakeguard': 162, 'Soanf': 163, 'Soapnut(Antawala/Retha)': 164, 'Soyabean': 165, 'Spinach': 166, 'Sponge gourd': 167, 'Squash(Chappal Kadoo)': 168, 'Sugar': 169, 'Sunflower': 170, 'Suva (Dill Seed)': 171, 'Sweet Potato': 172, 'Sweet Pumpkin': 173, 'T.V. Cumbu': 174, 'Tamarind Fruit': 175, 'Tamarind Seed': 176, 'Tapioca': 177, 'Tender Coconut': 178, 'Tinda': 179, 'Tomato': 180, 'Tube Rose(Double)': 181, 'Tube Rose(Loose)': 182, 'Tube Rose(Single)': 183, 'Turmeric': 184, 'Turnip': 185, 'Water Melon': 186, 'Wheat': 187, 'Wheat Atta': 188, 'White Peas': 189, 'Wood': 190, 'Yam': 191}\n",
      "Mapping for commodity saved to commodity_mapping.csv\n",
      "\n"
     ]
    }
   ],
   "source": [
    "# Load original dataset\n",
    "import pandas as pd\n",
    "from sklearn.preprocessing import LabelEncoder\n",
    "\n",
    "data = pd.read_csv(\"total.csv\")\n",
    "\n",
    "# Recreate LabelEncoders and mappings\n",
    "label_encoders = {}\n",
    "for col in ['state', 'district', 'market', 'commodity']:\n",
    "    le = LabelEncoder()\n",
    "    data[col] = le.fit_transform(data[col])  # Fit on original dataset\n",
    "    label_encoders[col] = le\n",
    "\n",
    "# Retrieve and save mappings\n",
    "for col, le in label_encoders.items():\n",
    "    mapping = dict(zip(le.classes_, range(len(le.classes_))))\n",
    "    print(f\"Mapping for {col}:\")\n",
    "    print(mapping)\n",
    "\n",
    "    # Save mapping to a CSV file\n",
    "    mapping_df = pd.DataFrame(list(mapping.items()), columns=[col, f'{col}_encoded'])\n",
    "    mapping_df.to_csv(f\"{col}_mapping.csv\", index=False)\n",
    "    print(f\"Mapping for {col} saved to {col}_mapping.csv\\n\")\n"
   ]
  },
  {
   "cell_type": "code",
   "execution_count": 2,
   "id": "34f038b9-363a-4528-b290-fc4cc91c857b",
   "metadata": {},
   "outputs": [
    {
     "name": "stdout",
     "output_type": "stream",
     "text": [
      "    timestamp  state_x  district  market  commodity        variety  \\\n",
      "0  1523025126        6        27      90          0  Alasande Gram   \n",
      "1  1523025126        6        41     121          0  Alasande Gram   \n",
      "2  1523025126        6       112     543          0  Alasande Gram   \n",
      "3  1523025126        6       112     621          0  Alasande Gram   \n",
      "4  1523025126        7         6     197          1          Other   \n",
      "\n",
      "  arrival_date  min_price  max_price  modal_price  price_spread   price_ratio  \\\n",
      "0   2018-06-04   0.052632   0.047273     0.050996      0.064163  1.454545e-09   \n",
      "1   2018-06-04   0.026579   0.040691     0.041666      0.091565  2.479263e-09   \n",
      "2   2018-06-04   0.027053   0.043991     0.041966      0.096541  2.633398e-09   \n",
      "3   2018-06-04   0.038958   0.041100     0.043496      0.073865  1.708478e-09   \n",
      "4   2018-06-04   0.044737   0.040000     0.042996      0.063380  1.447964e-09   \n",
      "\n",
      "   month  day_of_week  year    state_y  state_encoded  \n",
      "0      6            0  2018  Karnataka              6  \n",
      "1      6            0  2018  Karnataka              6  \n",
      "2      6            0  2018  Karnataka              6  \n",
      "3      6            0  2018  Karnataka              6  \n",
      "4      6            0  2018     Kerala              7  \n"
     ]
    }
   ],
   "source": [
    "# Load preprocessed data\n",
    "preprocessed_data = pd.read_csv(\"preprocessed_trade_data.csv\")\n",
    "\n",
    "# Merge mappings for verification (example for 'state')\n",
    "state_mapping = pd.read_csv(\"state_mapping.csv\")\n",
    "merged_data = preprocessed_data.merge(state_mapping, how='left', left_on='state', right_on='state_encoded')\n",
    "print(merged_data.head())\n"
   ]
  },
  {
   "cell_type": "code",
   "execution_count": null,
   "id": "a58d2e94-8091-48c5-9dd5-6cf9406d9bfb",
   "metadata": {},
   "outputs": [],
   "source": []
  }
 ],
 "metadata": {
  "kernelspec": {
   "display_name": "Python 3 (ipykernel)",
   "language": "python",
   "name": "python3"
  },
  "language_info": {
   "codemirror_mode": {
    "name": "ipython",
    "version": 3
   },
   "file_extension": ".py",
   "mimetype": "text/x-python",
   "name": "python",
   "nbconvert_exporter": "python",
   "pygments_lexer": "ipython3",
   "version": "3.12.7"
  }
 },
 "nbformat": 4,
 "nbformat_minor": 5
}
